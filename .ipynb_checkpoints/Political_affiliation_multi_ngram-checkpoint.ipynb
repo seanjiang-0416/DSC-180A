{
 "cells": [
  {
   "cell_type": "code",
   "execution_count": 1,
   "id": "5f7862ec",
   "metadata": {},
   "outputs": [],
   "source": [
    "import numpy as np\n",
    "import pandas as pd\n",
    "import nltk\n",
    "import re\n",
    "from nltk.corpus import stopwords\n",
    "from nltk.stem import LancasterStemmer\n",
    "from nltk.stem.snowball import SnowballStemmer\n",
    "from string import punctuation\n",
    "from sklearn.feature_extraction.text import TfidfVectorizer\n",
    "from sklearn.model_selection import train_test_split\n",
    "from sklearn.linear_model import LogisticRegression\n",
    "import torch\n",
    "import torch.nn as nn"
   ]
  },
  {
   "cell_type": "code",
   "execution_count": 2,
   "id": "d0755040",
   "metadata": {},
   "outputs": [],
   "source": [
    "# Dataset from: https://github.com/JerryWeiAI/NewB/blob/master/README.md\n",
    "f = open('political_affiliation_dataset.txt', 'r')\n",
    "X = []\n",
    "y = []\n",
    "for line in f.readlines():\n",
    "    X.append(line.split('\\t')[1])\n",
    "    y.append(int(line.split('\\t')[0]))\n",
    "X = np.array(X)\n",
    "y = np.array(y)"
   ]
  },
  {
   "cell_type": "code",
   "execution_count": 3,
   "id": "98852a58",
   "metadata": {},
   "outputs": [],
   "source": [
    "# import numpy as np\n",
    "\n",
    "# selected_samples = []\n",
    "# selected_labels = []\n",
    "\n",
    "# samples_per_label = 1000\n",
    "# for label in range(11):\n",
    "#     label_indices = np.where(y == label)[0]\n",
    "#     np.random.shuffle(label_indices)\n",
    "#     selected_indices = label_indices[:samples_per_label]\n",
    "#     selected_samples.extend(X[selected_indices])\n",
    "#     selected_labels.extend([label] * samples_per_label)\n",
    "# X_sample = np.array(selected_samples)\n",
    "# y_sample = np.array(selected_labels)\n",
    "\n",
    "# 0 is liberal, 1 is neutral, 2 is conservative\n",
    "def classify(x):\n",
    "    if x <= 4:\n",
    "        return 0\n",
    "    elif x >= 6:\n",
    "        return 2\n",
    "    else:\n",
    "        return 1\n",
    "y = np.array(list(map(classify, y)))"
   ]
  },
  {
   "cell_type": "code",
   "execution_count": 4,
   "id": "d185e166",
   "metadata": {},
   "outputs": [],
   "source": [
    "train_df = pd.DataFrame({'text': X, 'label': y})\n",
    "joined_text = []\n",
    "stemmer = LancasterStemmer()\n",
    "stopwords_punc = list(stopwords.words('english'))+list(punctuation)\n",
    "for i in train_df.index:\n",
    "    text = re.sub('[^a-zA-Z]', ' ', str(train_df['text'][i]))\n",
    "    text = text.lower()\n",
    "    text=re.sub(\"&lt;/?.*?&gt;\",\" &lt;&gt; \",text)\n",
    "    text=re.sub(\"(\\\\d|\\\\W)+\",\" \",text)\n",
    "    text = text.split()\n",
    "    lem = SnowballStemmer(\"english\")\n",
    "    text = [lem.stem(word) for word in text if not word in stopwords_punc] \n",
    "    joined_text.append(\" \".join(text))\n",
    "X = np.array(joined_text)"
   ]
  },
  {
   "cell_type": "code",
   "execution_count": 5,
   "id": "9ac64a50",
   "metadata": {
    "scrolled": false
   },
   "outputs": [],
   "source": [
    "label_0_indices = np.where(y == 0)[0]\n",
    "label_1_indices = np.where(y == 1)[0]\n",
    "label_2_indices = np.where(y == 2)[0]\n",
    "\n",
    "num_samples_per_label = 2000\n",
    "\n",
    "selected_label_0_indices = np.random.choice(label_0_indices, num_samples_per_label, replace=False)\n",
    "selected_label_1_indices = np.random.choice(label_1_indices, num_samples_per_label, replace=False)\n",
    "selected_label_2_indices = np.random.choice(label_2_indices, num_samples_per_label, replace=False)\n",
    "\n",
    "selected_indices = np.concatenate((selected_label_0_indices, selected_label_1_indices, selected_label_2_indices))\n",
    "\n",
    "X_sample = X[selected_indices]\n",
    "y_sample = y[selected_indices]"
   ]
  },
  {
   "cell_type": "code",
   "execution_count": 6,
   "id": "44e88b05",
   "metadata": {
    "scrolled": true
   },
   "outputs": [],
   "source": [
    "device = torch.device(\"cuda\" if torch.cuda.is_available() else \"cpu\")"
   ]
  },
  {
   "cell_type": "code",
   "execution_count": 7,
   "id": "1cbc48ca",
   "metadata": {},
   "outputs": [],
   "source": [
    "from sklearn.feature_extraction.text import CountVectorizer\n",
    "ngram_range = (2, 3)\n",
    "vectorizer = CountVectorizer(analyzer='word', ngram_range=ngram_range)\n",
    "X_ngrams = vectorizer.fit_transform(X_sample)"
   ]
  },
  {
   "cell_type": "code",
   "execution_count": 8,
   "id": "74a731bf",
   "metadata": {},
   "outputs": [],
   "source": [
    "from sklearn.model_selection import train_test_split\n",
    "X_train, X_test, y_train, y_test = train_test_split(X_ngrams, y_sample, test_size=0.3, random_state=42)"
   ]
  },
  {
   "cell_type": "code",
   "execution_count": 9,
   "id": "b0f34623",
   "metadata": {},
   "outputs": [],
   "source": [
    "X_train = torch.tensor(X_train.toarray()).to(device)\n",
    "y_train = torch.LongTensor(y_train).to(device)"
   ]
  },
  {
   "cell_type": "code",
   "execution_count": 10,
   "id": "e40e5a14",
   "metadata": {},
   "outputs": [],
   "source": [
    "import torch\n",
    "from torch.utils.data import DataLoader, TensorDataset\n",
    "\n",
    "train_dataset = TensorDataset(X_train, y_train)\n",
    "train_loader = DataLoader(train_dataset, batch_size=32, shuffle=True)"
   ]
  },
  {
   "cell_type": "code",
   "execution_count": 12,
   "id": "926c1be4",
   "metadata": {},
   "outputs": [
    {
     "name": "stdout",
     "output_type": "stream",
     "text": [
      "Test accuracy: 0.39444444444444443\n"
     ]
    }
   ],
   "source": [
    "class SimpleRNNClassifier(nn.Module):\n",
    "    def __init__(self, input_size, hidden_size, num_classes):\n",
    "        super(SimpleRNNClassifier, self).__init__()\n",
    "        self.hidden_size = hidden_size\n",
    "        self.fc = nn.Linear(input_size, num_classes)  \n",
    "\n",
    "    def forward(self, x):\n",
    "        out = self.fc(x)  \n",
    "        return out\n",
    "\n",
    "\n",
    "input_size = X_train.shape[1]\n",
    "hidden_size = 64 \n",
    "num_classes = 3\n",
    "model = SimpleRNNClassifier(input_size, hidden_size, num_classes)\n",
    "model.to(device)\n",
    "\n",
    "optimizer = torch.optim.Adam(model.parameters(), lr=1e-4)\n",
    "loss_fn = torch.nn.CrossEntropyLoss()\n",
    "\n",
    "for epoch in range(50):\n",
    "    model.train()\n",
    "    for batch in train_loader:\n",
    "        inputs, labels = batch\n",
    "\n",
    "        # Cast the inputs to the correct data type (float)\n",
    "        inputs = inputs.float().to(device)\n",
    "        labels = labels.to(device)\n",
    "\n",
    "        optimizer.zero_grad()\n",
    "        outputs = model(inputs)\n",
    "        loss = loss_fn(outputs, labels)\n",
    "        loss.backward()\n",
    "        optimizer.step()\n",
    "\n",
    "\n",
    "# Move test data to GPU\n",
    "X_test = torch.tensor(X_test.toarray()).float().to(device)\n",
    "y_test = torch.LongTensor(y_test).to(device)\n",
    "\n",
    "# Evaluate the model on the test set\n",
    "model.eval()\n",
    "with torch.no_grad():\n",
    "    correct = 0\n",
    "    total = 0\n",
    "    for i in range(0, X_test.shape[0], 32):\n",
    "        inputs = X_test[i:i+32]\n",
    "        labels = y_test[i:i+32]\n",
    "\n",
    "        outputs = model(inputs)\n",
    "        _, predicted = torch.max(outputs.data, 1)\n",
    "        total += labels.size(0)\n",
    "        correct += (predicted == labels).sum().item()\n",
    "\n",
    "accuracy = correct / total\n",
    "print(f\"Test accuracy: {accuracy}\")"
   ]
  }
 ],
 "metadata": {
  "kernelspec": {
   "display_name": "Python 3 (ipykernel)",
   "language": "python",
   "name": "python3"
  },
  "language_info": {
   "codemirror_mode": {
    "name": "ipython",
    "version": 3
   },
   "file_extension": ".py",
   "mimetype": "text/x-python",
   "name": "python",
   "nbconvert_exporter": "python",
   "pygments_lexer": "ipython3",
   "version": "3.9.5"
  }
 },
 "nbformat": 4,
 "nbformat_minor": 5
}
