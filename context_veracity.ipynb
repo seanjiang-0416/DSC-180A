{
 "cells": [
  {
   "cell_type": "code",
   "execution_count": 1,
   "id": "23ee6cd9",
   "metadata": {},
   "outputs": [],
   "source": [
    "import pandas as pd\n",
    "import numpy as np\n",
    "import re\n",
    "import nltk\n",
    "from nltk.tokenize import sent_tokenize\n",
    "from scipy.stats import zscore\n",
    "from scipy.stats import ttest_ind\n",
    "from scipy.stats import chi2_contingency\n",
    "from sklearn.feature_extraction.text import CountVectorizer\n",
    "from sklearn.decomposition import LatentDirichletAllocation\n",
    "\n",
    "# nltk.download('punkt')"
   ]
  },
  {
   "cell_type": "code",
   "execution_count": 5,
   "id": "fdc930e6",
   "metadata": {},
   "outputs": [],
   "source": [
    "# import zipfile\n",
    "# zip_file_path = 'politifact_data.zip'\n",
    "# with zipfile.ZipFile(zip_file_path, 'r') as zip_ref:\n",
    "#     zip_ref.extractall()"
   ]
  },
  {
   "cell_type": "code",
   "execution_count": 8,
   "id": "203a5b0d",
   "metadata": {
    "collapsed": true
   },
   "outputs": [
    {
     "data": {
      "text/html": [
       "<div>\n",
       "<style scoped>\n",
       "    .dataframe tbody tr th:only-of-type {\n",
       "        vertical-align: middle;\n",
       "    }\n",
       "\n",
       "    .dataframe tbody tr th {\n",
       "        vertical-align: top;\n",
       "    }\n",
       "\n",
       "    .dataframe thead th {\n",
       "        text-align: right;\n",
       "    }\n",
       "</style>\n",
       "<table border=\"1\" class=\"dataframe\">\n",
       "  <thead>\n",
       "    <tr style=\"text-align: right;\">\n",
       "      <th></th>\n",
       "      <th>media</th>\n",
       "      <th>when/where</th>\n",
       "      <th>content</th>\n",
       "      <th>label</th>\n",
       "      <th>speaker</th>\n",
       "      <th>documented_time</th>\n",
       "      <th>percentages</th>\n",
       "      <th>check_nums</th>\n",
       "      <th>summaries</th>\n",
       "      <th>article</th>\n",
       "    </tr>\n",
       "  </thead>\n",
       "  <tbody>\n",
       "    <tr>\n",
       "      <th>0</th>\n",
       "      <td>Instagram posts</td>\n",
       "      <td>stated on October 28, 2023 in a screenshot sha...</td>\n",
       "      <td>“Haaretz investigation reveals discrepancies i...</td>\n",
       "      <td>false</td>\n",
       "      <td>Madison Czopek</td>\n",
       "      <td>October 31, 2023</td>\n",
       "      <td>['0%' '0%' '2%' '7%' '67%' '21%']</td>\n",
       "      <td>[  5   3  16  54 473 152]</td>\n",
       "      <td>['Haaretz, an Israeli newspaper, said on X tha...</td>\n",
       "      <td>A viral Oct. 28 social media post claimed that...</td>\n",
       "    </tr>\n",
       "    <tr>\n",
       "      <th>1</th>\n",
       "      <td>Scott Walker</td>\n",
       "      <td>stated on May 30, 2023 in Interview:</td>\n",
       "      <td>“Wisconsin has historically … and I think larg...</td>\n",
       "      <td>barely-true</td>\n",
       "      <td>Laura Schulte</td>\n",
       "      <td>October 31, 2023</td>\n",
       "      <td>['12%' '21%' '18%' '19%' '21%' '5%']</td>\n",
       "      <td>[26 45 39 41 44 11]</td>\n",
       "      <td>['Although Wisconsin has voted for more Democr...</td>\n",
       "      <td>In 2016, Wisconsin helped to swing the preside...</td>\n",
       "    </tr>\n",
       "    <tr>\n",
       "      <th>2</th>\n",
       "      <td>Instagram posts</td>\n",
       "      <td>stated on October 27, 2023 in a post:</td>\n",
       "      <td>“The airport in Salzburg, Austria, has a count...</td>\n",
       "      <td>false</td>\n",
       "      <td>Ciara O'Rourke</td>\n",
       "      <td>October 30, 2023</td>\n",
       "      <td>['0%' '0%' '2%' '7%' '67%' '21%']</td>\n",
       "      <td>[  5   3  16  54 473 152]</td>\n",
       "      <td>[]</td>\n",
       "      <td>A social media post poised to encourage people...</td>\n",
       "    </tr>\n",
       "    <tr>\n",
       "      <th>3</th>\n",
       "      <td>Viral image</td>\n",
       "      <td>stated on October 27, 2023 in an Instagram post:</td>\n",
       "      <td>Video shows Palestinians pretending to be corp...</td>\n",
       "      <td>false</td>\n",
       "      <td>Ciara O'Rourke</td>\n",
       "      <td>October 30, 2023</td>\n",
       "      <td>['0%' '1%' '2%' '4%' '62%' '28%']</td>\n",
       "      <td>[  4  13  35  53 745 336]</td>\n",
       "      <td>['This video is 10 years old and shows student...</td>\n",
       "      <td>The Gaza Health Ministry has said the Palestin...</td>\n",
       "    </tr>\n",
       "    <tr>\n",
       "      <th>4</th>\n",
       "      <td>Facebook posts</td>\n",
       "      <td>stated on September 25, 2023 in a Facebook post:</td>\n",
       "      <td>The life span of a wind tower generator lasts ...</td>\n",
       "      <td>false</td>\n",
       "      <td>Loreben Tuquero</td>\n",
       "      <td>October 30, 2023</td>\n",
       "      <td>['0%' '1%' '4%' '9%' '59%' '23%']</td>\n",
       "      <td>[  24   50  108  247 1519  594]</td>\n",
       "      <td>['A study by energy industry experts showed th...</td>\n",
       "      <td>Let’s clear the air. Do wind turbine component...</td>\n",
       "    </tr>\n",
       "  </tbody>\n",
       "</table>\n",
       "</div>"
      ],
      "text/plain": [
       "             media                                         when/where  \\\n",
       "0  Instagram posts  stated on October 28, 2023 in a screenshot sha...   \n",
       "1     Scott Walker               stated on May 30, 2023 in Interview:   \n",
       "2  Instagram posts              stated on October 27, 2023 in a post:   \n",
       "3      Viral image   stated on October 27, 2023 in an Instagram post:   \n",
       "4   Facebook posts   stated on September 25, 2023 in a Facebook post:   \n",
       "\n",
       "                                             content        label  \\\n",
       "0  “Haaretz investigation reveals discrepancies i...        false   \n",
       "1  “Wisconsin has historically … and I think larg...  barely-true   \n",
       "2  “The airport in Salzburg, Austria, has a count...        false   \n",
       "3  Video shows Palestinians pretending to be corp...        false   \n",
       "4  The life span of a wind tower generator lasts ...        false   \n",
       "\n",
       "           speaker    documented_time                           percentages  \\\n",
       "0   Madison Czopek   October 31, 2023     ['0%' '0%' '2%' '7%' '67%' '21%']   \n",
       "1    Laura Schulte   October 31, 2023  ['12%' '21%' '18%' '19%' '21%' '5%']   \n",
       "2   Ciara O'Rourke   October 30, 2023     ['0%' '0%' '2%' '7%' '67%' '21%']   \n",
       "3   Ciara O'Rourke   October 30, 2023     ['0%' '1%' '2%' '4%' '62%' '28%']   \n",
       "4  Loreben Tuquero   October 30, 2023     ['0%' '1%' '4%' '9%' '59%' '23%']   \n",
       "\n",
       "                        check_nums  \\\n",
       "0        [  5   3  16  54 473 152]   \n",
       "1              [26 45 39 41 44 11]   \n",
       "2        [  5   3  16  54 473 152]   \n",
       "3        [  4  13  35  53 745 336]   \n",
       "4  [  24   50  108  247 1519  594]   \n",
       "\n",
       "                                           summaries  \\\n",
       "0  ['Haaretz, an Israeli newspaper, said on X tha...   \n",
       "1  ['Although Wisconsin has voted for more Democr...   \n",
       "2                                                 []   \n",
       "3  ['This video is 10 years old and shows student...   \n",
       "4  ['A study by energy industry experts showed th...   \n",
       "\n",
       "                                             article  \n",
       "0  A viral Oct. 28 social media post claimed that...  \n",
       "1  In 2016, Wisconsin helped to swing the preside...  \n",
       "2  A social media post poised to encourage people...  \n",
       "3  The Gaza Health Ministry has said the Palestin...  \n",
       "4  Let’s clear the air. Do wind turbine component...  "
      ]
     },
     "execution_count": 8,
     "metadata": {},
     "output_type": "execute_result"
    }
   ],
   "source": [
    "poli_df = pd.read_csv('politifact_data.csv')\n",
    "poli_df.head()"
   ]
  },
  {
   "cell_type": "code",
   "execution_count": 191,
   "id": "04597912",
   "metadata": {},
   "outputs": [
    {
     "data": {
      "text/html": [
       "<div>\n",
       "<style scoped>\n",
       "    .dataframe tbody tr th:only-of-type {\n",
       "        vertical-align: middle;\n",
       "    }\n",
       "\n",
       "    .dataframe tbody tr th {\n",
       "        vertical-align: top;\n",
       "    }\n",
       "\n",
       "    .dataframe thead th {\n",
       "        text-align: right;\n",
       "    }\n",
       "</style>\n",
       "<table border=\"1\" class=\"dataframe\">\n",
       "  <thead>\n",
       "    <tr style=\"text-align: right;\">\n",
       "      <th></th>\n",
       "      <th>media</th>\n",
       "      <th>label</th>\n",
       "      <th>article</th>\n",
       "    </tr>\n",
       "  </thead>\n",
       "  <tbody>\n",
       "    <tr>\n",
       "      <th>0</th>\n",
       "      <td>Instagram posts</td>\n",
       "      <td>false</td>\n",
       "      <td>A viral Oct. 28 social media post claimed that...</td>\n",
       "    </tr>\n",
       "    <tr>\n",
       "      <th>1</th>\n",
       "      <td>Scott Walker</td>\n",
       "      <td>barely-true</td>\n",
       "      <td>In 2016, Wisconsin helped to swing the preside...</td>\n",
       "    </tr>\n",
       "    <tr>\n",
       "      <th>2</th>\n",
       "      <td>Instagram posts</td>\n",
       "      <td>false</td>\n",
       "      <td>A social media post poised to encourage people...</td>\n",
       "    </tr>\n",
       "    <tr>\n",
       "      <th>3</th>\n",
       "      <td>Viral image</td>\n",
       "      <td>false</td>\n",
       "      <td>The Gaza Health Ministry has said the Palestin...</td>\n",
       "    </tr>\n",
       "    <tr>\n",
       "      <th>4</th>\n",
       "      <td>Facebook posts</td>\n",
       "      <td>false</td>\n",
       "      <td>Let’s clear the air. Do wind turbine component...</td>\n",
       "    </tr>\n",
       "  </tbody>\n",
       "</table>\n",
       "</div>"
      ],
      "text/plain": [
       "             media        label  \\\n",
       "0  Instagram posts        false   \n",
       "1     Scott Walker  barely-true   \n",
       "2  Instagram posts        false   \n",
       "3      Viral image        false   \n",
       "4   Facebook posts        false   \n",
       "\n",
       "                                             article  \n",
       "0  A viral Oct. 28 social media post claimed that...  \n",
       "1  In 2016, Wisconsin helped to swing the preside...  \n",
       "2  A social media post poised to encourage people...  \n",
       "3  The Gaza Health Ministry has said the Palestin...  \n",
       "4  Let’s clear the air. Do wind turbine component...  "
      ]
     },
     "execution_count": 191,
     "metadata": {},
     "output_type": "execute_result"
    }
   ],
   "source": [
    "shift_df = poli_df[['media', 'label', 'article']]\n",
    "shift_df.head()"
   ]
  },
  {
   "cell_type": "code",
   "execution_count": 192,
   "id": "06d05305",
   "metadata": {},
   "outputs": [
    {
     "name": "stderr",
     "output_type": "stream",
     "text": [
      "/home/zhj003/.local/lib/python3.9/site-packages/transformers/pipelines/text_classification.py:105: UserWarning: `return_all_scores` is now deprecated,  if want a similar functionality use `top_k=None` instead of `return_all_scores=True` or `top_k=1` instead of `return_all_scores=False`.\n",
      "  warnings.warn(\n"
     ]
    }
   ],
   "source": [
    "from transformers import pipeline\n",
    "distilled_student_sentiment_classifier = pipeline(\n",
    "    model=\"lxyuan/distilbert-base-multilingual-cased-sentiments-student\", \n",
    "    return_all_scores=True\n",
    ")"
   ]
  },
  {
   "cell_type": "code",
   "execution_count": 213,
   "id": "23865320",
   "metadata": {},
   "outputs": [],
   "source": [
    "# 1 for drift, 0 for non-drift\n",
    "def sentiment_score(result):\n",
    "    numerical_scores = [scale[sentiment['label']] * sentiment['score'] for sentiment in result[0]]\n",
    "    overall_score = sum(numerical_scores)\n",
    "    return overall_score\n",
    "\n",
    "def sentiment_shift(article):\n",
    "    cleaned_text = re.sub(r'\\xa0', ' ', article)\n",
    "    cleaned_text = re.sub(r'\\\\', '', cleaned_text)\n",
    "    cleaned_text = re.sub(r'\\n', ' ', cleaned_text)\n",
    "    cleaned_text = re.sub(r'\\s+', ' ', cleaned_text)  # Replace multiple spaces with a single space\n",
    "    cleaned_text = cleaned_text.encode('ascii', 'ignore').decode('utf-8')\n",
    "    cleaned_text = cleaned_text.strip()\n",
    "    cleaned_text = re.sub(r'“|”', '\"', cleaned_text)\n",
    "    scale = {\n",
    "        'positive' : 1,\n",
    "        'neutral' : 0,\n",
    "        'negative' : -1\n",
    "    }\n",
    "    data = []\n",
    "    sentences = sent_tokenize(article)\n",
    "    for sentence in sentences:\n",
    "        # For now, trim sentence if longer than 512\n",
    "        if len(sentence) > 512:\n",
    "            sentence = sentence[:512]\n",
    "        result = sentiment_score(distilled_student_sentiment_classifier(sentence))\n",
    "        data.append(result)\n",
    "    alpha = 0.05\n",
    "    half = len(data)//2\n",
    "    first_half = data[:half]\n",
    "    second_half = data[half:]\n",
    "    t_statistic, p_value = ttest_ind(first_half, second_half)\n",
    "    if p_value < alpha:\n",
    "        return 1\n",
    "    else:\n",
    "        return 0"
   ]
  },
  {
   "cell_type": "code",
   "execution_count": 198,
   "id": "4226d728",
   "metadata": {},
   "outputs": [],
   "source": [
    "# 1 for drift, 0 for non-drift\n",
    "def topic_shift(article):\n",
    "    cleaned_text = re.sub(r'\\xa0', ' ', article)\n",
    "    cleaned_text = re.sub(r'\\\\', '', cleaned_text)\n",
    "    cleaned_text = re.sub(r'\\n', ' ', cleaned_text)\n",
    "    cleaned_text = re.sub(r'\\s+', ' ', cleaned_text)  # Replace multiple spaces with a single space\n",
    "    cleaned_text = cleaned_text.encode('ascii', 'ignore').decode('utf-8')\n",
    "    cleaned_text = cleaned_text.strip()\n",
    "    cleaned_text = re.sub(r'“|”', '\"', cleaned_text)\n",
    "    scale = {\n",
    "        'positive' : 1,\n",
    "        'neutral' : 0,\n",
    "        'negative' : -1\n",
    "    }\n",
    "    data = []\n",
    "    sentences = sent_tokenize(article)\n",
    "    vectorizer = CountVectorizer(stop_words='english')\n",
    "    dtm = vectorizer.fit_transform(sentences)\n",
    "    lda = LatentDirichletAllocation(n_components=5, random_state=42)\n",
    "    lda.fit(dtm)\n",
    "    topic_distribution = lda.transform(dtm)\n",
    "    dominant_topic_per_document = topic_distribution.argmax(axis=1)\n",
    "    half = len(dominant_topic_per_document) // 2\n",
    "    epsilon = 1e-9\n",
    "    first_half = dominant_topic_per_document[:half]\n",
    "    second_half = dominant_topic_per_document[half:]\n",
    "    min_value = min(min(first_half), min(second_half))\n",
    "    max_value = max(max(first_half), max(second_half))\n",
    "    histogram1, _ = np.histogram(first_half, bins=np.arange(min_value, max_value + 2))\n",
    "    histogram2, _ = np.histogram(second_half, bins=np.arange(min_value, max_value + 2))\n",
    "    contingency_table = np.array([histogram1, histogram2]) + epsilon\n",
    "    _, p_value, _, _ = chi2_contingency(contingency_table)\n",
    "    if p_value < 0.05:\n",
    "        return 1\n",
    "    else:\n",
    "        return 0"
   ]
  },
  {
   "cell_type": "code",
   "execution_count": 200,
   "id": "c170b12d",
   "metadata": {
    "collapsed": true
   },
   "outputs": [
    {
     "name": "stderr",
     "output_type": "stream",
     "text": [
      "/tmp/ipykernel_120/3589513220.py:1: SettingWithCopyWarning: \n",
      "A value is trying to be set on a copy of a slice from a DataFrame.\n",
      "Try using .loc[row_indexer,col_indexer] = value instead\n",
      "\n",
      "See the caveats in the documentation: https://pandas.pydata.org/pandas-docs/stable/user_guide/indexing.html#returning-a-view-versus-a-copy\n",
      "  shift_df['topic_drift'] = shift_df['article'].apply(topic_shift)\n"
     ]
    }
   ],
   "source": [
    "shift_df['topic_drift'] = shift_df['article'].apply(topic_shift)"
   ]
  },
  {
   "cell_type": "code",
   "execution_count": 221,
   "id": "42e780fb",
   "metadata": {},
   "outputs": [
    {
     "name": "stdout",
     "output_type": "stream",
     "text": [
      "Iteration 25600 is done\n"
     ]
    }
   ],
   "source": [
    "from IPython.display import clear_output\n",
    "sent_shift = []\n",
    "for i in range(shift_df.shape[0]):\n",
    "    result = sentiment_shift(shift_df.iloc[i]['article'])\n",
    "    sent_shift.append(result)\n",
    "    if i % 100 == 0:\n",
    "        print(f'Iteration',i,'is done')\n",
    "        clear_output(wait=True)"
   ]
  },
  {
   "cell_type": "code",
   "execution_count": 225,
   "id": "d4a272cd",
   "metadata": {
    "collapsed": true
   },
   "outputs": [
    {
     "name": "stderr",
     "output_type": "stream",
     "text": [
      "/tmp/ipykernel_120/20659093.py:1: SettingWithCopyWarning: \n",
      "A value is trying to be set on a copy of a slice from a DataFrame.\n",
      "Try using .loc[row_indexer,col_indexer] = value instead\n",
      "\n",
      "See the caveats in the documentation: https://pandas.pydata.org/pandas-docs/stable/user_guide/indexing.html#returning-a-view-versus-a-copy\n",
      "  shift_df['sentiment_drift'] = pd.Series(sent_shift)\n"
     ]
    }
   ],
   "source": [
    "shift_df['sentiment_drift'] = pd.Series(sent_shift)"
   ]
  },
  {
   "cell_type": "code",
   "execution_count": 227,
   "id": "d1393d02",
   "metadata": {},
   "outputs": [],
   "source": [
    "shift_df.to_csv('context_shift_score.csv')"
   ]
  },
  {
   "cell_type": "code",
   "execution_count": 9,
   "id": "22f3b5eb",
   "metadata": {},
   "outputs": [],
   "source": [
    "import zipfile\n",
    "import os\n",
    "def zip_file():\n",
    "    file_to_zip = 'context_shift_score.csv'\n",
    "    zip_file_name = 'context_shift_score.zip'\n",
    "    with zipfile.ZipFile(zip_file_name, 'w', zipfile.ZIP_DEFLATED) as zipf:\n",
    "        zipf.write(file_to_zip)\n",
    "    print(f'{file_to_zip} has been zipped to {zip_file_name}')\n",
    "    \n",
    "    # Delete csv after zipping\n",
    "    if os.path.exists(file_to_zip):\n",
    "        os.remove(file_to_zip)\n",
    "        print(f'{file_to_zip} has been deleted.')\n",
    "    else:\n",
    "        print(f'{file_to_zip} does not exist.')"
   ]
  },
  {
   "cell_type": "code",
   "execution_count": 10,
   "id": "847419a4",
   "metadata": {},
   "outputs": [
    {
     "name": "stdout",
     "output_type": "stream",
     "text": [
      "context_shift_score.csv has been zipped to context_shift_score.zip\n",
      "context_shift_score.csv has been deleted.\n"
     ]
    }
   ],
   "source": [
    "zip_file()"
   ]
  },
  {
   "cell_type": "code",
   "execution_count": null,
   "id": "1bf77970",
   "metadata": {},
   "outputs": [],
   "source": []
  }
 ],
 "metadata": {
  "kernelspec": {
   "display_name": "Python 3 (ipykernel)",
   "language": "python",
   "name": "python3"
  },
  "language_info": {
   "codemirror_mode": {
    "name": "ipython",
    "version": 3
   },
   "file_extension": ".py",
   "mimetype": "text/x-python",
   "name": "python",
   "nbconvert_exporter": "python",
   "pygments_lexer": "ipython3",
   "version": "3.9.5"
  }
 },
 "nbformat": 4,
 "nbformat_minor": 5
}
