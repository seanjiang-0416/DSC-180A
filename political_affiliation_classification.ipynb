{
 "cells": [
  {
   "cell_type": "code",
   "execution_count": 1,
   "id": "7c770587",
   "metadata": {},
   "outputs": [],
   "source": [
    "import numpy as np\n",
    "import pandas as pd\n",
    "import nltk\n",
    "import re\n",
    "from nltk.corpus import stopwords\n",
    "from nltk.stem import LancasterStemmer\n",
    "from nltk.stem.snowball import SnowballStemmer\n",
    "from string import punctuation\n",
    "from sklearn.feature_extraction.text import TfidfVectorizer\n",
    "from sklearn.model_selection import train_test_split\n",
    "from sklearn.linear_model import LogisticRegression"
   ]
  },
  {
   "cell_type": "code",
   "execution_count": 2,
   "id": "093effa9",
   "metadata": {},
   "outputs": [],
   "source": [
    "# Dataset from: https://github.com/JerryWeiAI/NewB/blob/master/README.md\n",
    "f = open('political_affiliation_dataset.txt', 'r')\n",
    "X = []\n",
    "y = []\n",
    "for line in f.readlines():\n",
    "    X.append(line.split('\\t')[1])\n",
    "    y.append(int(line.split('\\t')[0]))\n",
    "X = np.array(X)\n",
    "y = np.array(y)"
   ]
  },
  {
   "cell_type": "code",
   "execution_count": 3,
   "id": "55ce43f6",
   "metadata": {},
   "outputs": [],
   "source": [
    "# 0 is liberal, 1 is neutral, 2 is conservative\n",
    "def classify(x):\n",
    "    if x <= 4:\n",
    "        return 0\n",
    "    elif x >= 6:\n",
    "        return 2\n",
    "    else:\n",
    "        return 1\n",
    "y = np.array(list(map(classify, y)))"
   ]
  },
  {
   "cell_type": "code",
   "execution_count": 54,
   "id": "05eb7aeb",
   "metadata": {},
   "outputs": [],
   "source": [
    "label_0_indices = np.where(y == 0)[0]\n",
    "label_1_indices = np.where(y == 1)[0]\n",
    "label_2_indices = np.where(y == 2)[0]\n",
    "\n",
    "num_samples_per_label = 5000\n",
    "\n",
    "selected_label_0_indices = np.random.choice(label_0_indices, num_samples_per_label, replace=False)\n",
    "selected_label_1_indices = np.random.choice(label_1_indices, num_samples_per_label, replace=False)\n",
    "selected_label_2_indices = np.random.choice(label_2_indices, num_samples_per_label, replace=False)\n",
    "\n",
    "selected_indices = np.concatenate((selected_label_0_indices, selected_label_1_indices, selected_label_2_indices))\n",
    "\n",
    "X_sample = X[selected_indices]\n",
    "y_sample = y[selected_indices]"
   ]
  },
  {
   "cell_type": "code",
   "execution_count": 59,
   "id": "fd43c3b3",
   "metadata": {},
   "outputs": [],
   "source": [
    "device = torch.device(\"cuda\" if torch.cuda.is_available() else \"cpu\")"
   ]
  },
  {
   "cell_type": "code",
   "execution_count": 7,
   "id": "cabccc76",
   "metadata": {},
   "outputs": [],
   "source": [
    "train_df = pd.DataFrame({'text': X, 'label': y})\n",
    "joined_text = []\n",
    "stemmer = LancasterStemmer()\n",
    "stopwords_punc = list(stopwords.words('english'))+list(punctuation)\n",
    "for i in train_df.index:\n",
    "    text = re.sub('[^a-zA-Z]', ' ', str(train_df['text'][i]))\n",
    "    text = text.lower()\n",
    "    text=re.sub(\"&lt;/?.*?&gt;\",\" &lt;&gt; \",text)\n",
    "    text=re.sub(\"(\\\\d|\\\\W)+\",\" \",text)\n",
    "    text = text.split()\n",
    "    lem = SnowballStemmer(\"english\")\n",
    "    text = [lem.stem(word) for word in text if not word in stopwords_punc] \n",
    "    joined_text.append(\" \".join(text))\n",
    "train_clean = pd.DataFrame({'text':joined_text,'label':train_df['label']})\n",
    "X = train_clean['text']\n",
    "y = train_clean['label']\n",
    "tfidf = TfidfVectorizer(norm = \"l2\")\n",
    "tfidf.fit(X)\n",
    "Xt = tfidf.transform(X)\n",
    "X_train, X_test, y_train, y_test = train_test_split(Xt, y, test_size=0.2, random_state= 21)\n",
    "model = LogisticRegression(max_iter = 1000)\n",
    "model.fit(X_train, y_train)\n",
    "y_pred = model.predict(X_test)\n",
    "np.mean(y_pred == np.array(y_test))\n",
    "# 0.5593120160766003"
   ]
  },
  {
   "cell_type": "code",
   "execution_count": null,
   "id": "9cd4c920",
   "metadata": {},
   "outputs": [],
   "source": [
    "# import numpy as np\n",
    "# import time\n",
    "# import matplotlib.pyplot as plt\n",
    "# from matplotlib.colors import ListedColormap\n",
    "# from sklearn.model_selection import train_test_split, cross_val_score\n",
    "# from sklearn.preprocessing import StandardScaler\n",
    "# from sklearn.datasets import make_moons, make_circles, make_classification\n",
    "# from sklearn.neural_network import MLPClassifier\n",
    "# from sklearn.neighbors import KNeighborsClassifier\n",
    "# from sklearn.svm import SVC\n",
    "# from sklearn.gaussian_process import GaussianProcessClassifier\n",
    "# from sklearn.gaussian_process.kernels import RBF\n",
    "# from sklearn.tree import DecisionTreeClassifier\n",
    "# from sklearn.ensemble import RandomForestClassifier, AdaBoostClassifier\n",
    "# from sklearn.naive_bayes import GaussianNB\n",
    "# from sklearn.discriminant_analysis import QuadraticDiscriminantAnalysis\n",
    "# from sklearn.linear_model import LogisticRegression\n",
    "\n",
    "# names = [#\"Nearest Neighbors\", \"Linear SVM\", \n",
    "#          \"RBF SVM\", #\"Gaussian Process\",\n",
    "#          \"Decision Tree\", \"Random Forest\", \"Neural Net\", \"AdaBoost\", \"Logistic Regression\",\"Naive Bayes\",\n",
    "# # \"QDA\"\n",
    "#     ]\n",
    "\n",
    "\n",
    "# classifiers = [\n",
    "# #     KNeighborsClassifier(2),\n",
    "# #     SVC(kernel=\"linear\", C=0.025),\n",
    "#     SVC(gamma=2, C=1),\n",
    "#     #GaussianProcessClassifier(1.0 * RBF(1.0)),\n",
    "#     DecisionTreeClassifier(max_depth=5),\n",
    "#     RandomForestClassifier(max_depth=5, n_estimators=10, max_features=1),\n",
    "#     MLPClassifier(alpha=1, max_iter=1000),\n",
    "#     AdaBoostClassifier(),\n",
    "#     LogisticRegression(max_iter=1000),\n",
    "#     GaussianNB()\n",
    "# #     QuadraticDiscriminantAnalysis()\n",
    "# ]\n",
    "\n",
    "# X = train_clean['text']\n",
    "# y = train_clean['label']\n",
    "\n",
    "# tfidf = TfidfVectorizer(norm = \"l2\")\n",
    "# tfidf.fit(X)\n",
    "# Xt = tfidf.transform(X)\n",
    "# Xt_dense = Xt.toarray()\n",
    "# X_train, X_test, y_train, y_test = train_test_split(Xt, y, test_size=0.2, random_state= 21)\n",
    "\n",
    "# # TODO (Apply): All cross-validation\n",
    "\n",
    "# max_score = 0.0\n",
    "# max_class = ''\n",
    "\n",
    "# # iterate over classifiers\n",
    "# for name, clf in zip(names, classifiers):\n",
    "#     start_time = time.time()\n",
    "    \n",
    "#     # Do Cross Validation\n",
    "#     if name == \"Naive Bayes\" or name == \"QDA\":\n",
    "#         # For GaussianNB, use the dense data\n",
    "#         scores = cross_val_score(clf, Xt_dense, y, cv=5)\n",
    "#     else:\n",
    "#         scores = cross_val_score(clf, Xt, y, cv=5)\n",
    "    \n",
    "#     score = 100.0 * np.mean(scores)\n",
    "    \n",
    "#     print('Classifier = %s, Score (test, accuracy) = %.2f,' %(name, score), 'Training time = %.2f seconds' % (time.time() - start_time))\n",
    "    \n",
    "#     if score > max_score:\n",
    "#         clf_best = clf\n",
    "#         max_score = score\n",
    "#         max_class = name\n",
    "\n",
    "# print(80*'-' )\n",
    "# print('Best --> Classifier = %s, Score (test, accuracy) = %.2f' %(max_class, max_score))\n",
    "# #plot the output of the various algorithms"
   ]
  },
  {
   "cell_type": "code",
   "execution_count": 58,
   "id": "ae439de2",
   "metadata": {},
   "outputs": [],
   "source": [
    "from transformers import BertTokenizer, BertForSequenceClassification\n",
    "import torch\n",
    "from torch.nn.utils.rnn import pad_sequence\n",
    "from torch.utils.data import DataLoader, TensorDataset\n",
    "from sklearn.model_selection import train_test_split"
   ]
  },
  {
   "cell_type": "code",
   "execution_count": 60,
   "id": "1ac7f02d",
   "metadata": {},
   "outputs": [],
   "source": [
    "max_seq_length = 512\n",
    "Trimmed_X = [text[:max_seq_length] for text in X_sample]"
   ]
  },
  {
   "cell_type": "code",
   "execution_count": 61,
   "id": "3a6050cf",
   "metadata": {},
   "outputs": [],
   "source": [
    "tokenizer = BertTokenizer.from_pretrained(\"bert-base-uncased\")\n",
    "encoded_sentences = [tokenizer.encode(text, add_special_tokens=True) for text in Trimmed_X]\n",
    "labels = y_sample"
   ]
  },
  {
   "cell_type": "code",
   "execution_count": 62,
   "id": "79b45c63",
   "metadata": {},
   "outputs": [],
   "source": [
    "encoded_set = [torch.LongTensor(text) for text in encoded_sentences]\n",
    "train_labels = list(y_sample)"
   ]
  },
  {
   "cell_type": "code",
   "execution_count": 63,
   "id": "39f4f32d",
   "metadata": {},
   "outputs": [],
   "source": [
    "# Train-validation-test split\n",
    "train_texts, test_texts, train_labels, test_labels = train_test_split(encoded_set, train_labels, test_size=0.3, random_state=42)\n",
    "val_texts, test_texts, val_labels, test_labels = train_test_split(test_texts, test_labels, test_size=0.5, random_state=42)"
   ]
  },
  {
   "cell_type": "code",
   "execution_count": 64,
   "id": "33832600",
   "metadata": {},
   "outputs": [],
   "source": [
    "train_texts = pad_sequence(train_texts, batch_first=True, padding_value=tokenizer.pad_token_id)\n",
    "train_dataset = TensorDataset(torch.LongTensor(train_texts), torch.LongTensor(train_labels))\n",
    "train_loader = DataLoader(train_dataset, batch_size=32, shuffle=True)"
   ]
  },
  {
   "cell_type": "code",
   "execution_count": 65,
   "id": "185840f1",
   "metadata": {
    "scrolled": true
   },
   "outputs": [
    {
     "name": "stderr",
     "output_type": "stream",
     "text": [
      "Some weights of BertForSequenceClassification were not initialized from the model checkpoint at bert-base-uncased and are newly initialized: ['classifier.bias', 'classifier.weight']\n",
      "You should probably TRAIN this model on a down-stream task to be able to use it for predictions and inference.\n"
     ]
    },
    {
     "data": {
      "text/plain": [
       "BertForSequenceClassification(\n",
       "  (bert): BertModel(\n",
       "    (embeddings): BertEmbeddings(\n",
       "      (word_embeddings): Embedding(30522, 768, padding_idx=0)\n",
       "      (position_embeddings): Embedding(512, 768)\n",
       "      (token_type_embeddings): Embedding(2, 768)\n",
       "      (LayerNorm): LayerNorm((768,), eps=1e-12, elementwise_affine=True)\n",
       "      (dropout): Dropout(p=0.1, inplace=False)\n",
       "    )\n",
       "    (encoder): BertEncoder(\n",
       "      (layer): ModuleList(\n",
       "        (0-11): 12 x BertLayer(\n",
       "          (attention): BertAttention(\n",
       "            (self): BertSelfAttention(\n",
       "              (query): Linear(in_features=768, out_features=768, bias=True)\n",
       "              (key): Linear(in_features=768, out_features=768, bias=True)\n",
       "              (value): Linear(in_features=768, out_features=768, bias=True)\n",
       "              (dropout): Dropout(p=0.1, inplace=False)\n",
       "            )\n",
       "            (output): BertSelfOutput(\n",
       "              (dense): Linear(in_features=768, out_features=768, bias=True)\n",
       "              (LayerNorm): LayerNorm((768,), eps=1e-12, elementwise_affine=True)\n",
       "              (dropout): Dropout(p=0.1, inplace=False)\n",
       "            )\n",
       "          )\n",
       "          (intermediate): BertIntermediate(\n",
       "            (dense): Linear(in_features=768, out_features=3072, bias=True)\n",
       "            (intermediate_act_fn): GELUActivation()\n",
       "          )\n",
       "          (output): BertOutput(\n",
       "            (dense): Linear(in_features=3072, out_features=768, bias=True)\n",
       "            (LayerNorm): LayerNorm((768,), eps=1e-12, elementwise_affine=True)\n",
       "            (dropout): Dropout(p=0.1, inplace=False)\n",
       "          )\n",
       "        )\n",
       "      )\n",
       "    )\n",
       "    (pooler): BertPooler(\n",
       "      (dense): Linear(in_features=768, out_features=768, bias=True)\n",
       "      (activation): Tanh()\n",
       "    )\n",
       "  )\n",
       "  (dropout): Dropout(p=0.1, inplace=False)\n",
       "  (classifier): Linear(in_features=768, out_features=3, bias=True)\n",
       ")"
      ]
     },
     "execution_count": 65,
     "metadata": {},
     "output_type": "execute_result"
    }
   ],
   "source": [
    "model = BertForSequenceClassification.from_pretrained(\"bert-base-uncased\", num_labels=3)\n",
    "model.to(device)"
   ]
  },
  {
   "cell_type": "code",
   "execution_count": 66,
   "id": "6a61f073",
   "metadata": {},
   "outputs": [],
   "source": [
    "optimizer = torch.optim.AdamW(model.parameters(), lr=1e-5)\n",
    "loss_fn = torch.nn.CrossEntropyLoss()"
   ]
  },
  {
   "cell_type": "code",
   "execution_count": 67,
   "id": "5d11a14b",
   "metadata": {},
   "outputs": [],
   "source": [
    "for epoch in range(50):\n",
    "    model.train()\n",
    "    for batch in train_loader:\n",
    "        input_ids, labels = batch\n",
    "        input_ids = input_ids.to(device)\n",
    "        labels = labels.to(device)\n",
    "\n",
    "        optimizer.zero_grad()\n",
    "        output = model(input_ids, labels=labels)\n",
    "        loss = loss_fn(output.logits, labels)\n",
    "        loss.backward()\n",
    "        optimizer.step()"
   ]
  },
  {
   "cell_type": "code",
   "execution_count": 68,
   "id": "382e1aeb",
   "metadata": {},
   "outputs": [],
   "source": [
    "val_texts = pad_sequence(val_texts, batch_first=True, padding_value=tokenizer.pad_token_id)\n",
    "val_dataset = TensorDataset(torch.LongTensor(val_texts), torch.LongTensor(val_labels))\n",
    "val_loader = DataLoader(val_dataset, batch_size=32, shuffle=True)"
   ]
  },
  {
   "cell_type": "code",
   "execution_count": 69,
   "id": "8cf14f72",
   "metadata": {},
   "outputs": [
    {
     "name": "stdout",
     "output_type": "stream",
     "text": [
      "Test accuracy: 0.5417777777777778\n"
     ]
    }
   ],
   "source": [
    "model.eval()\n",
    "with torch.no_grad():\n",
    "    val_loss = 0\n",
    "    correct = 0\n",
    "    for batch in val_loader:\n",
    "        input_ids, labels = batch\n",
    "        input_ids = input_ids.to(device)\n",
    "        output = model(input_ids)\n",
    "        labels = labels.to(device)\n",
    "        val_loss += loss_fn(output.logits, labels).item()\n",
    "        pred = output.logits.argmax(dim=1, keepdim=True)\n",
    "        correct += pred.eq(labels.view_as(pred)).sum().item()\n",
    "\n",
    "accuracy = correct / len(val_texts)\n",
    "print(f\"Test accuracy: {accuracy}\")"
   ]
  },
  {
   "cell_type": "code",
   "execution_count": null,
   "id": "125b0af7",
   "metadata": {},
   "outputs": [],
   "source": [
    "#Classifier = Nearest Neighbors, Score (test, accuracy) = 42.78, Training time = 1729.20 seconds\n",
    "#Classifier = Linear SVM, Score (test, accuracy) = 43.77, Training time = 57367.66 seconds"
   ]
  },
  {
   "cell_type": "code",
   "execution_count": null,
   "id": "7d624e79",
   "metadata": {},
   "outputs": [],
   "source": [
    "# Test accuracy: 0.6268256803614585 with only 2 epochs\n",
    "# Sample test accuracy: 0.548 with 50 epochs, not equal size\n",
    "# Test accuracy: 0.5417777777777778 with 5000 samples of each"
   ]
  }
 ],
 "metadata": {
  "kernelspec": {
   "display_name": "Python 3 (ipykernel)",
   "language": "python",
   "name": "python3"
  },
  "language_info": {
   "codemirror_mode": {
    "name": "ipython",
    "version": 3
   },
   "file_extension": ".py",
   "mimetype": "text/x-python",
   "name": "python",
   "nbconvert_exporter": "python",
   "pygments_lexer": "ipython3",
   "version": "3.9.5"
  }
 },
 "nbformat": 4,
 "nbformat_minor": 5
}
